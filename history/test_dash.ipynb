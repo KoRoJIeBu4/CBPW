{
 "cells": [
  {
   "cell_type": "code",
   "execution_count": 1,
   "id": "c737de7b-1421-4bbb-8b0f-3d40e48b90ca",
   "metadata": {},
   "outputs": [],
   "source": [
    "from dash import Dash, dcc, html, Input, Output, State\n",
    "import plotly.express as px\n",
    "import pandas as pd\n",
    "import numpy as np"
   ]
  },
  {
   "cell_type": "code",
   "execution_count": 2,
   "id": "6d71d5a7-32d5-417b-acb3-c6499e1b45aa",
   "metadata": {},
   "outputs": [],
   "source": [
    "app = Dash(__name__)\n",
    "app.title = \"Социально-финансовый мониторинг\""
   ]
  },
  {
   "cell_type": "code",
   "execution_count": 3,
   "id": "71b21b2c-bc8d-4b9f-9937-25c5a4c2bb03",
   "metadata": {},
   "outputs": [],
   "source": [
    "regions = ['Регион 1', 'Регион 2', 'Регион 3', 'Регион 4', 'Регион 5']\n",
    "years = list(range(2000, 2021))"
   ]
  },
  {
   "cell_type": "code",
   "execution_count": 4,
   "id": "a5ca40e8-8470-436f-8f69-c02410823e96",
   "metadata": {},
   "outputs": [],
   "source": [
    "data = {\n",
    "    \"Регион\": np.random.choice(regions, 100),\n",
    "    \"Год\": np.random.choice(years, 100),\n",
    "    \"ВРП\": np.random.uniform(100, 1000, 100),\n",
    "    \"Индекс развития\": np.random.uniform(0.5, 1.5, 100),\n",
    "}\n",
    "df = pd.DataFrame(data)\n",
    "\n",
    "# Функция для фильтрации данных по региону\n",
    "def filter_region_data(region):\n",
    "    return df[df[\"Регион\"] == region]"
   ]
  },
  {
   "cell_type": "code",
   "execution_count": 5,
   "id": "d23b43cc-1dc0-4749-9de1-c270577f535a",
   "metadata": {},
   "outputs": [],
   "source": [
    "app.layout = html.Div([\n",
    "    dcc.Location(id='url', refresh=False),  # Для управления страницами\n",
    "    html.Div(id='page-content')  # Контейнер для контента страниц\n",
    "])\n",
    "\n",
    "main_page = html.Div([\n",
    "    html.H1(\"Социально-финансовый мониторинг\", style={'text-align': 'center'}),\n",
    "    html.Div([\n",
    "        dcc.Link(\"Перейти к показателям региона\", href='/region', style={'margin-right': '20px'}),\n",
    "        dcc.Link(\"Перейти к индексу развития\", href='/index'),\n",
    "    ], style={'text-align': 'center'}),\n",
    "])\n",
    "\n",
    "region_page = html.Div([\n",
    "    html.H2(\"Основные показатели региона\", style={'text-align': 'center'}),\n",
    "    html.Div([\n",
    "        html.Label(\"Выберите регион:\"),\n",
    "        dcc.Dropdown(\n",
    "            id='region-dropdown',\n",
    "            options=[{'label': reg, 'value': reg} for reg in regions],\n",
    "            value=regions[0]\n",
    "        ),\n",
    "    ]),\n",
    "    dcc.Graph(id='region-graph'),\n",
    "    html.Br(),\n",
    "    dcc.Link(\"Вернуться на главную\", href='/')\n",
    "])\n",
    "\n",
    "index_page = html.Div([\n",
    "    html.H2(\"Динамика индекса развития\", style={'text-align': 'center'}),\n",
    "    html.Div([\n",
    "        html.Label(\"Выберите регион:\"),\n",
    "        dcc.Dropdown(\n",
    "            id='index-region-dropdown',\n",
    "            options=[{'label': reg, 'value': reg} for reg in regions],\n",
    "            value=regions[0]\n",
    "        ),\n",
    "    ]),\n",
    "    dcc.Graph(id='index-graph'),\n",
    "    html.Br(),\n",
    "    dcc.Link(\"Вернуться на главную\", href='/')\n",
    "])\n",
    "\n",
    "@app.callback(Output('page-content', 'children'), Input('url', 'pathname'))\n",
    "def display_page(pathname):\n",
    "    if pathname == '/region':\n",
    "        return region_page\n",
    "    elif pathname == '/index':\n",
    "        return index_page\n",
    "    else:\n",
    "        return main_page\n",
    "\n",
    "@app.callback(Output('region-graph', 'figure'), Input('region-dropdown', 'value'))\n",
    "def update_region_graph(selected_region):\n",
    "    filtered_data = filter_region_data(selected_region)\n",
    "    fig = px.line(filtered_data, x=\"Год\", y=\"ВРП\", title=f\"Динамика ВРП для {selected_region}\")\n",
    "    fig.update_traces(mode='lines+markers')\n",
    "    return fig\n",
    "\n",
    "@app.callback(Output('index-graph', 'figure'), Input('index-region-dropdown', 'value'))\n",
    "def update_index_graph(selected_region):\n",
    "    filtered_data = filter_region_data(selected_region)\n",
    "    similar_regions = df[df[\"Год\"].isin(filtered_data[\"Год\"].unique())].groupby(\"Регион\").mean()\n",
    "    top_similar = similar_regions[\"Индекс развития\"].nlargest(6).reset_index()  # Топ-5 + выбранный регион\n",
    "    \n",
    "    fig = px.line(filtered_data, x=\"Год\", y=\"Индекс развития\", title=f\"Индекс развития для {selected_region}\")\n",
    "    for region in top_similar[\"Регион\"]:\n",
    "        if region != selected_region:\n",
    "            similar_data = df[df[\"Регион\"] == region]\n",
    "            fig.add_scatter(x=similar_data[\"Год\"], y=similar_data[\"Индекс развития\"], mode='lines', name=region)\n",
    "    return fig"
   ]
  },
  {
   "cell_type": "code",
   "execution_count": 11,
   "id": "c9756518-a629-48bd-a100-19b44178c128",
   "metadata": {},
   "outputs": [
    {
     "data": {
      "text/html": [
       "\n",
       "        <iframe\n",
       "            width=\"100%\"\n",
       "            height=\"650\"\n",
       "            src=\"http://127.0.0.1:8050/\"\n",
       "            frameborder=\"0\"\n",
       "            allowfullscreen\n",
       "            \n",
       "        ></iframe>\n",
       "        "
      ],
      "text/plain": [
       "<IPython.lib.display.IFrame at 0x22ba4c86660>"
      ]
     },
     "metadata": {},
     "output_type": "display_data"
    }
   ],
   "source": [
    "if __name__ == '__main__':\n",
    "    app.run_server(debug=True)"
   ]
  },
  {
   "cell_type": "code",
   "execution_count": null,
   "id": "6f2daedf-2922-4bf0-8889-d18ad272e049",
   "metadata": {},
   "outputs": [],
   "source": []
  }
 ],
 "metadata": {
  "kernelspec": {
   "display_name": "Python 3 (ipykernel)",
   "language": "python",
   "name": "python3"
  },
  "language_info": {
   "codemirror_mode": {
    "name": "ipython",
    "version": 3
   },
   "file_extension": ".py",
   "mimetype": "text/x-python",
   "name": "python",
   "nbconvert_exporter": "python",
   "pygments_lexer": "ipython3",
   "version": "3.12.4"
  }
 },
 "nbformat": 4,
 "nbformat_minor": 5
}
